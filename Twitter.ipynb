{
 "cells": [
  {
   "cell_type": "code",
   "execution_count": 2,
   "id": "94413203",
   "metadata": {},
   "outputs": [],
   "source": [
    "from transformers import pipeline\n",
    "import pandas as pd\n",
    "import matplotlib.pyplot as plt\n",
    "import seaborn as sns\n",
    "import requests\n"
   ]
  },
  {
   "cell_type": "code",
   "execution_count": 45,
   "id": "e80fabc6",
   "metadata": {},
   "outputs": [
    {
     "name": "stdout",
     "output_type": "stream",
     "text": [
      "Data has been saved to 'unique_tweets.xlsx'.\n"
     ]
    }
   ],
   "source": [
    "\n",
    "# Configuration and setup\n",
    "API_TOKEN = \"apify_api_I76OdSShW712npTQOBUbyGGWmKRBoD4nDRzb\"\n",
    "BASE_URL = \"https://api.apify.com/v2/datasets\"\n",
    "\n",
    "headers = {\n",
    "    \"Authorization\": f\"Bearer {API_TOKEN}\"\n",
    "}\n",
    "\n",
    "# Function to get all dataset IDs\n",
    "def get_all_dataset_ids():\n",
    "    dataset_ids = []\n",
    "    params = {\"limit\": 1000, \"offset\": 0}  # Set limits for pagination\n",
    "    while True:\n",
    "        response = requests.get(BASE_URL, headers=headers, params=params)\n",
    "        data = response.json().get(\"data\", {}).get(\"items\", [])\n",
    "        \n",
    "        if not data:\n",
    "            break  # Stop if there are no more datasets\n",
    "\n",
    "        # Collect dataset IDs\n",
    "        dataset_ids.extend([dataset[\"id\"] for dataset in data])\n",
    "        params[\"offset\"] += len(data)  # Move to the next page\n",
    "    return dataset_ids\n",
    "\n",
    "# Retrieve all tweets from the datasets\n",
    "all_tweets = []\n",
    "dataset_ids = get_all_dataset_ids() \n",
    "\n",
    "for dataset_id in dataset_ids:\n",
    "    url = f\"{BASE_URL}/{dataset_id}/items?format=json\"\n",
    "    response = requests.get(url, headers=headers)\n",
    "    if response.status_code == 200:\n",
    "        tweets = response.json()\n",
    "        all_tweets.extend(tweets)  \n",
    "\n",
    "# Convert tweets to DataFrame\n",
    "tweets_df = pd.json_normalize(all_tweets)\n",
    "\n",
    "# Convert text column if needed and handle missing or non-standard fields\n",
    "tweets_df['text'] = tweets_df.get('fullText', '').astype(str)\n",
    "\n",
    "# Remove duplicates based on 'text' or another column (e.g., 'id')\n",
    "tweets_df = tweets_df.drop_duplicates(subset=['text'])\n",
    "\n",
    "# Save to Excel\n",
    "tweets_df.to_excel(\"unique_tweets.xlsx\", index=False)\n",
    "print(\"Data has been saved to 'unique_tweets.xlsx'.\")"
   ]
  },
  {
   "cell_type": "markdown",
   "id": "e0ab1aa0-d30d-4217-8083-ec832a038d1e",
   "metadata": {},
   "source": [
    "### Get named and unnamed datasets"
   ]
  },
  {
   "cell_type": "code",
   "execution_count": 2,
   "id": "961fcecb-b0c3-4513-b9f2-88132d045070",
   "metadata": {},
   "outputs": [
    {
     "name": "stdout",
     "output_type": "stream",
     "text": [
      "Total datasets retrieved: 1281\n",
      "Data has been saved to 'unique_tweets_extended2.xlsx'.\n"
     ]
    }
   ],
   "source": [
    "import requests\n",
    "import pandas as pd\n",
    "\n",
    "# Configuration and setup\n",
    "API_TOKEN = \"apify_api_dWKOEBf1gyHNFa9eHJY1AaaXHsysA23GgCFT\"\n",
    "BASE_URL = \"https://api.apify.com/v2/datasets\"\n",
    "\n",
    "headers = {\n",
    "    \"Authorization\": f\"Bearer {API_TOKEN}\"\n",
    "}\n",
    "\n",
    "# Function to get all dataset IDs (including unnamed ones)\n",
    "def get_all_dataset_ids():\n",
    "    dataset_ids = []\n",
    "    params = {\"limit\": 1000, \"offset\": 0, \"unnamed\": 1}  # Add 'unnamed=1' to include unnamed datasets\n",
    "    while True:\n",
    "        response = requests.get(BASE_URL, headers=headers, params=params)\n",
    "        \n",
    "        if response.status_code != 200:\n",
    "            print(\"Error fetching datasets:\", response.status_code, response.text)\n",
    "            break  # Exit if there's an error in the response\n",
    "        \n",
    "        data = response.json().get(\"data\", {}).get(\"items\", [])\n",
    "        \n",
    "        if not data:\n",
    "            break  # Stop if there are no more datasets\n",
    "\n",
    "        # Collect all dataset IDs, named or unnamed\n",
    "        dataset_ids.extend([dataset[\"id\"] for dataset in data])\n",
    "        params[\"offset\"] += len(data)  # Move to the next page\n",
    "        \n",
    "    return dataset_ids\n",
    "\n",
    "# Retrieve all tweets from the datasets\n",
    "all_tweets = []\n",
    "dataset_ids = get_all_dataset_ids()\n",
    "\n",
    "# Diagnostic print to verify dataset retrieval\n",
    "print(f\"Total datasets retrieved: {len(dataset_ids)}\")\n",
    "\n",
    "for dataset_id in dataset_ids:\n",
    "    url = f\"{BASE_URL}/{dataset_id}/items?format=json\"\n",
    "    response = requests.get(url, headers=headers)\n",
    "    if response.status_code == 200:\n",
    "        tweets = response.json()\n",
    "        all_tweets.extend(tweets)\n",
    "    else:\n",
    "        print(f\"Failed to retrieve dataset with ID {dataset_id}: {response.status_code}\")\n",
    "\n",
    "# Convert tweets to DataFrame\n",
    "tweets_df = pd.json_normalize(all_tweets)\n",
    "\n",
    "# Convert text column if needed and handle missing or non-standard fields\n",
    "tweets_df['text'] = tweets_df.get('fullText', '').astype(str)\n",
    "\n",
    "# Remove duplicates based on 'text' or another column (e.g., 'id')\n",
    "tweets_df = tweets_df.drop_duplicates(subset=['text']) \n",
    "\n",
    "# Save to Excel\n",
    "tweets_df.to_excel(\"unique_tweets_2023.xlsx\", index=False)\n",
    "print(\"Data has been saved to 'unique_tweets_extended2.xlsx'.\")\n"
   ]
  }
 ],
 "metadata": {
  "kernelspec": {
   "display_name": "Python 3 (ipykernel)",
   "language": "python",
   "name": "python3"
  },
  "language_info": {
   "codemirror_mode": {
    "name": "ipython",
    "version": 3
   },
   "file_extension": ".py",
   "mimetype": "text/x-python",
   "name": "python",
   "nbconvert_exporter": "python",
   "pygments_lexer": "ipython3",
   "version": "3.10.15"
  }
 },
 "nbformat": 4,
 "nbformat_minor": 5
}
